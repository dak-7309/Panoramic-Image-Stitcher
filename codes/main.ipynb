{
  "nbformat": 4,
  "nbformat_minor": 0,
  "metadata": {
    "colab": {
      "name": "main.ipynb",
      "provenance": [],
      "collapsed_sections": []
    },
    "kernelspec": {
      "display_name": "Python 3",
      "name": "python3"
    },
    "accelerator": "GPU"
  },
  "cells": [
    {
      "cell_type": "code",
      "metadata": {
        "id": "7UGa1cLoc_dS"
      },
      "source": [
        "from google.colab import drive\n",
        "drive.mount('/content/drive/')"
      ],
      "execution_count": null,
      "outputs": []
    },
    {
      "cell_type": "code",
      "metadata": {
        "id": "D1YD960gdPTT"
      },
      "source": [
        "!pip install opencv-python==3.4.2.16\n",
        "!pip install opencv-contrib-python==3.4.2.16"
      ],
      "execution_count": null,
      "outputs": []
    },
    {
      "cell_type": "code",
      "metadata": {
        "id": "KB5AqKq2HqzC"
      },
      "source": [
        "import time\n",
        "y=[]\n",
        "\n"
      ],
      "execution_count": null,
      "outputs": []
    },
    {
      "cell_type": "code",
      "metadata": {
        "id": "AKouN2o26g_Y"
      },
      "source": [
        "cd /content/drive/MyDrive/DIP Proj/orb_knn"
      ],
      "execution_count": null,
      "outputs": []
    },
    {
      "cell_type": "code",
      "metadata": {
        "colab": {
          "base_uri": "https://localhost:8080/"
        },
        "id": "FCHFHD3c6k6B",
        "outputId": "7a08d827-384c-48fb-9330-d06c3aa17f86"
      },
      "source": [
        "t0=time.time()\n",
        "! python3 orbknn.py \"/content/drive/MyDrive/DIP Proj/pier1.jpg\" \"/content/drive/MyDrive/DIP Proj/pier2.jpg\"\n",
        "t1=time.time()\n",
        "y.append(t1-t0)\n",
        "print(\"Time taken by Orb_knn= \",t1-t0)"
      ],
      "execution_count": null,
      "outputs": [
        {
          "output_type": "stream",
          "text": [
            "<Figure size 2000x800 with 2 Axes>\n",
            "<Figure size 2000x800 with 2 Axes>\n",
            "<Figure size 2000x800 with 1 Axes>\n",
            "Homography= \n",
            " [[ 1.10615030e+00  3.65669693e-02 -3.27992294e+02]\n",
            " [ 2.58943004e-02  1.16237927e+00 -5.24604365e+01]\n",
            " [ 8.56623018e-05  3.20733757e-04  1.00000000e+00]]\n",
            "Time taken by Orb_knn=  5.130999803543091\n"
          ],
          "name": "stdout"
        }
      ]
    },
    {
      "cell_type": "code",
      "metadata": {
        "id": "_Y55G-YrA2JT"
      },
      "source": [
        "cd /content/drive/MyDrive/DIP Proj/brisk_knn"
      ],
      "execution_count": null,
      "outputs": []
    },
    {
      "cell_type": "code",
      "metadata": {
        "colab": {
          "base_uri": "https://localhost:8080/"
        },
        "id": "pXV_cSQdA6Py",
        "outputId": "cdf74585-ad65-41fe-da82-b59b0a52c72a"
      },
      "source": [
        "t0=time.time()\n",
        "! python3 brisk_knn.py \"/content/drive/MyDrive/DIP Proj/pier1.jpg\" \"/content/drive/MyDrive/DIP Proj/pier2.jpg\"\n",
        "t1=time.time()\n",
        "y.append(t1-t0)\n",
        "print(\"Time taken by Brisk_knn= \",t1-t0)\n"
      ],
      "execution_count": null,
      "outputs": [
        {
          "output_type": "stream",
          "text": [
            "<Figure size 2000x800 with 2 Axes>\n",
            "<Figure size 2000x800 with 2 Axes>\n",
            "<Figure size 2000x800 with 1 Axes>\n",
            "Homography= \n",
            " [[ 1.12447100e+00  4.12619745e-03 -3.27196832e+02]\n",
            " [ 4.40425007e-02  1.14087087e+00 -5.37167816e+01]\n",
            " [ 1.78478268e-04  1.80205029e-04  1.00000000e+00]]\n",
            "Time taken by Brisk_knn=  4.527281284332275\n"
          ],
          "name": "stdout"
        }
      ]
    },
    {
      "cell_type": "code",
      "metadata": {
        "id": "uUgayIGUBFl7"
      },
      "source": [
        "cd /content/drive/MyDrive/DIP Proj/surf_knn"
      ],
      "execution_count": null,
      "outputs": []
    },
    {
      "cell_type": "code",
      "metadata": {
        "colab": {
          "base_uri": "https://localhost:8080/"
        },
        "id": "ftOxXxGgBI7x",
        "outputId": "69c03a2e-361a-42b7-a881-d67b72df02b4"
      },
      "source": [
        "t0=time.time()\n",
        "! python3 surf_knn.py \"/content/drive/MyDrive/DIP Proj/pier1.jpg\" \"/content/drive/MyDrive/DIP Proj/pier2.jpg\"\n",
        "t1=time.time()\n",
        "y.append(t1-t0)\n",
        "print(\"Time taken by Surf_knn= \",t1-t0)\n"
      ],
      "execution_count": null,
      "outputs": [
        {
          "output_type": "stream",
          "text": [
            "<Figure size 2000x800 with 2 Axes>\n",
            "<Figure size 2000x800 with 2 Axes>\n",
            "<Figure size 2000x800 with 1 Axes>\n",
            "Homography= \n",
            " [[ 1.09020933e+00 -1.06407993e-02 -3.14270865e+02]\n",
            " [ 4.61971424e-02  1.07391038e+00 -4.68739268e+01]\n",
            " [ 1.86177452e-04  5.68993693e-06  1.00000000e+00]]\n",
            "Time taken by Surf_knn=  4.127176761627197\n"
          ],
          "name": "stdout"
        }
      ]
    },
    {
      "cell_type": "code",
      "metadata": {
        "id": "8Jti978aBUkT"
      },
      "source": [
        "cd /content/drive/MyDrive/DIP Proj/sift_knn"
      ],
      "execution_count": null,
      "outputs": []
    },
    {
      "cell_type": "code",
      "metadata": {
        "colab": {
          "base_uri": "https://localhost:8080/"
        },
        "id": "J2ZL4f3ABYrc",
        "outputId": "9f240931-406f-4995-d0ad-cbe9873a3e68"
      },
      "source": [
        "t0=time.time()\n",
        "! python3 sift_knn.py \"/content/drive/MyDrive/DIP Proj/pier1.jpg\" \"/content/drive/MyDrive/DIP Proj/pier2.jpg\"\n",
        "t1=time.time()\n",
        "y.append(t1-t0)\n",
        "print(\"Time taken by Sift_knn= \",t1-t0)\n"
      ],
      "execution_count": null,
      "outputs": [
        {
          "output_type": "stream",
          "text": [
            "<Figure size 2000x800 with 2 Axes>\n",
            "<Figure size 2000x800 with 2 Axes>\n",
            "<Figure size 2000x800 with 1 Axes>\n",
            "Homography= \n",
            " [[ 1.09300673e+00 -9.90654998e-03 -3.15149865e+02]\n",
            " [ 4.60631591e-02  1.07935609e+00 -4.72198009e+01]\n",
            " [ 1.88750009e-04  2.00130861e-05  1.00000000e+00]]\n",
            "Time taken by Sift_knn=  4.02618932723999\n"
          ],
          "name": "stdout"
        }
      ]
    },
    {
      "cell_type": "code",
      "metadata": {
        "id": "Cf4qcqTtdG_5"
      },
      "source": [
        "cd /content/drive/MyDrive/DIP Proj/orb_bf"
      ],
      "execution_count": null,
      "outputs": []
    },
    {
      "cell_type": "code",
      "metadata": {
        "colab": {
          "base_uri": "https://localhost:8080/"
        },
        "id": "58HPdVzQCar_",
        "outputId": "ba34ab5e-66af-41a5-d998-0d3c687954c8"
      },
      "source": [
        "t0=time.time()\n",
        "# ! python3 orb_bf.py 1 2\n",
        "! python3 orb_bf.py \"/content/drive/MyDrive/DIP Proj/pier1.jpg\" \"/content/drive/MyDrive/DIP Proj/pier2.jpg\"\n",
        "t1=time.time()\n",
        "y.append(t1-t0)\n",
        "print(\"Time taken by Orb_bf= \",t1-t0)\n"
      ],
      "execution_count": null,
      "outputs": [
        {
          "output_type": "stream",
          "text": [
            "<Figure size 2000x800 with 2 Axes>\n",
            "<Figure size 2000x800 with 2 Axes>\n",
            "<Figure size 2000x800 with 1 Axes>\n",
            "Homography= \n",
            " [[ 1.06584521e+00  3.14646453e-03 -3.08764587e+02]\n",
            " [ 2.69713168e-02  1.08191550e+00 -4.28356085e+01]\n",
            " [ 9.05801668e-05  1.32073798e-04  1.00000000e+00]]\n",
            "Time taken by Orb_bf=  3.629490613937378\n"
          ],
          "name": "stdout"
        }
      ]
    },
    {
      "cell_type": "code",
      "metadata": {
        "id": "sgNPEkCd9ZZ1"
      },
      "source": [
        "cd /content/drive/MyDrive/DIP Proj/brisk_bf"
      ],
      "execution_count": null,
      "outputs": []
    },
    {
      "cell_type": "code",
      "metadata": {
        "colab": {
          "base_uri": "https://localhost:8080/"
        },
        "id": "KAOnVhPU9c-_",
        "outputId": "cc40938d-80ad-446a-f568-a6e2b0a22801"
      },
      "source": [
        "t0=time.time()\n",
        "! python3 brisk_bf.py \"/content/drive/MyDrive/DIP Proj/pier1.jpg\" \"/content/drive/MyDrive/DIP Proj/pier2.jpg\"\n",
        "t1=time.time()\n",
        "y.append(t1-t0)\n",
        "print(\"Time taken by Brisk_bf= \",t1-t0)\n"
      ],
      "execution_count": null,
      "outputs": [
        {
          "output_type": "stream",
          "text": [
            "<Figure size 2000x800 with 2 Axes>\n",
            "<Figure size 2000x800 with 2 Axes>\n",
            "<Figure size 2000x800 with 1 Axes>\n",
            "Homography= \n",
            " [[ 1.10190360e+00 -7.79291016e-03 -3.18282690e+02]\n",
            " [ 4.83878068e-02  1.08746018e+00 -4.86289980e+01]\n",
            " [ 1.98632088e-04  3.18360254e-05  1.00000000e+00]]\n",
            "Time taken by Brisk_bf=  4.531197786331177\n"
          ],
          "name": "stdout"
        }
      ]
    },
    {
      "cell_type": "code",
      "metadata": {
        "id": "gY_gL3ea9iaS"
      },
      "source": [
        "cd /content/drive/MyDrive/DIP Proj/surf_bf"
      ],
      "execution_count": null,
      "outputs": []
    },
    {
      "cell_type": "code",
      "metadata": {
        "colab": {
          "base_uri": "https://localhost:8080/"
        },
        "id": "FUJgIIMZB3Xr",
        "outputId": "f20ff233-cc75-4742-ef69-05666a26b631"
      },
      "source": [
        "t0=time.time()\n",
        "! python3 surf_bf.py \"/content/drive/MyDrive/DIP Proj/pier1.jpg\" \"/content/drive/MyDrive/DIP Proj/pier2.jpg\"\n",
        "t1=time.time()\n",
        "y.append(t1-t0)\n",
        "print(\"Time taken by Surf_bf= \",t1-t0)\n"
      ],
      "execution_count": null,
      "outputs": [
        {
          "output_type": "stream",
          "text": [
            "<Figure size 2000x800 with 2 Axes>\n",
            "<Figure size 2000x800 with 2 Axes>\n",
            "<Figure size 2000x800 with 1 Axes>\n",
            "Homography= \n",
            " [[ 1.08924687e+00 -1.07404434e-02 -3.13978020e+02]\n",
            " [ 4.54974608e-02  1.07162040e+00 -4.63803117e+01]\n",
            " [ 1.85485752e-04  1.33646555e-06  1.00000000e+00]]\n",
            "Time taken by Surf_bf=  4.324922323226929\n"
          ],
          "name": "stdout"
        }
      ]
    },
    {
      "cell_type": "code",
      "metadata": {
        "id": "BM5_V5LtB5jf"
      },
      "source": [
        "cd /content/drive/MyDrive/DIP Proj/sift_bf"
      ],
      "execution_count": null,
      "outputs": []
    },
    {
      "cell_type": "code",
      "metadata": {
        "colab": {
          "base_uri": "https://localhost:8080/"
        },
        "id": "hjKhL_1NB7qG",
        "outputId": "92403306-a105-4059-e4a2-16515f3f93cb"
      },
      "source": [
        "t0=time.time()\n",
        "! python3 sift_bf.py \"/content/drive/MyDrive/DIP Proj/pier1.jpg\" \"/content/drive/MyDrive/DIP Proj/pier2.jpg\"\n",
        "t1=time.time()\n",
        "y.append(t1-t0)\n",
        "\n",
        "\n",
        "print(\"Time taken by Sift_bf= \",t1-t0)\n"
      ],
      "execution_count": null,
      "outputs": [
        {
          "output_type": "stream",
          "text": [
            "<Figure size 2000x800 with 2 Axes>\n",
            "<Figure size 2000x800 with 2 Axes>\n",
            "<Figure size 2000x800 with 1 Axes>\n",
            "Homography= \n",
            " [[ 1.09066849e+00 -9.20068434e-03 -3.14487703e+02]\n",
            " [ 4.51252807e-02  1.07796367e+00 -4.68483044e+01]\n",
            " [ 1.84055118e-04  2.19685984e-05  1.00000000e+00]]\n",
            "Time taken by Sift_bf=  4.030091285705566\n"
          ],
          "name": "stdout"
        }
      ]
    },
    {
      "cell_type": "code",
      "metadata": {
        "colab": {
          "base_uri": "https://localhost:8080/"
        },
        "id": "hbAm8KTkIzPh",
        "outputId": "241d9f02-0c3c-496c-ada8-b6061e1d05c0"
      },
      "source": [
        "y"
      ],
      "execution_count": null,
      "outputs": [
        {
          "output_type": "execute_result",
          "data": {
            "text/plain": [
              "[5.130999803543091,\n",
              " 4.527281284332275,\n",
              " 4.127176761627197,\n",
              " 4.02618932723999,\n",
              " 3.629490613937378,\n",
              " 4.531197786331177,\n",
              " 4.324922323226929,\n",
              " 4.030091285705566]"
            ]
          },
          "metadata": {
            "tags": []
          },
          "execution_count": 20
        }
      ]
    },
    {
      "cell_type": "code",
      "metadata": {
        "colab": {
          "base_uri": "https://localhost:8080/"
        },
        "id": "J6NdxF8JKmiN",
        "outputId": "5baa620c-d77d-45c2-f136-b7e09bbb0beb"
      },
      "source": [
        "cd /content/drive/MyDrive/DIP Proj"
      ],
      "execution_count": null,
      "outputs": [
        {
          "output_type": "stream",
          "text": [
            "/content/drive/.shortcut-targets-by-id/1wyhx2ztDTPn2I7k0eoGvtOediZshk8Eq/DIP Proj\n"
          ],
          "name": "stdout"
        }
      ]
    },
    {
      "cell_type": "code",
      "metadata": {
        "colab": {
          "base_uri": "https://localhost:8080/",
          "height": 280
        },
        "id": "CTTUI1cbJgzI",
        "outputId": "785191e3-087b-4dc6-e7d6-974b6aa7eed8"
      },
      "source": [
        "from matplotlib import pyplot as plt\n",
        "x1=[\"Orb_knn\", \"Brisk_knn\", \"Surf_knn\", \"Sift_knn\"]\n",
        "x2=[\"Orb_bf\", \"Brisk_bf\", \"Surf_bf\", \"Sift_bf\"]\n",
        "y1=y[:4]\n",
        "y2=y[4:]\n",
        "\n",
        "plt.xlabel(\"Model types\")\n",
        "plt.ylabel(\"Time of execution (in s)\")\n",
        "plt.bar(x1, y1, color ='blue')\n",
        "plt.plot(x1,y1)\n",
        "plt.savefig(\"time_comparisons_knn.jpg\")\n"
      ],
      "execution_count": null,
      "outputs": [
        {
          "output_type": "display_data",
          "data": {
            "image/png": "[encoded data removed]",
            "text/plain": [
              "<Figure size 432x288 with 1 Axes>"
            ]
          },
          "metadata": {
            "tags": [],
            "needs_background": "light"
          }
        }
      ]
    },
    {
      "cell_type": "code",
      "metadata": {
        "colab": {
          "base_uri": "https://localhost:8080/",
          "height": 280
        },
        "id": "wOR6SXF4KyOb",
        "outputId": "b5d3cd84-cd0a-48aa-ffe4-1057274657c5"
      },
      "source": [
        "\n",
        "plt.xlabel(\"Model types\")\n",
        "plt.ylabel(\"Time of execution (in s)\")\n",
        "plt.bar(x2, y2, color ='blue')\n",
        "plt.plot(x2,y2)\n",
        "plt.savefig(\"time_comparisons_bf.jpg\")\n",
        "\n"
      ],
      "execution_count": null,
      "outputs": [
        {
          "output_type": "display_data",
          "data": {
            "image/png": "[encoded data removed]",
            "text/plain": [
              "<Figure size 432x288 with 1 Axes>"
            ]
          },
          "metadata": {
            "tags": [],
            "needs_background": "light"
          }
        }
      ]
    },
    {
      "cell_type": "code",
      "metadata": {
        "id": "INPkSeCZJ5JI"
      },
      "source": [
        "cd /content/drive/MyDrive/DIP Proj/tripple"
      ],
      "execution_count": null,
      "outputs": []
    },
    {
      "cell_type": "code",
      "metadata": {
        "id": "grmg87VSrWHt",
        "colab": {
          "base_uri": "https://localhost:8080/"
        },
        "outputId": "55e4b232-286e-49e9-b6e3-cacb9a3c2643"
      },
      "source": [
        "y = []\r\n",
        "\r\n",
        "t0=time.time()\r\n",
        "! python3 surf_knn.py \"/content/drive/MyDrive/DIP Proj/ledge1.jpg\" \"/content/drive/MyDrive/DIP Proj/ledge2.jpg\"\r\n",
        "\r\n",
        "! python3 surf_knn.py \"/content/drive/MyDrive/DIP Proj/ledge_12.jpg\" \"/content/drive/MyDrive/DIP Proj/ledge3.jpg\"\r\n",
        "t1=time.time()\r\n",
        "y.append(t1-t0)\r\n",
        "\r\n",
        "\r\n",
        "print(\"Time taken by Surf_knn= \",t1-t0)\r\n",
        "\r\n",
        "\r\n"
      ],
      "execution_count": null,
      "outputs": [
        {
          "output_type": "stream",
          "text": [
            "<Figure size 2000x800 with 2 Axes>\n",
            "<Figure size 2000x800 with 2 Axes>\n",
            "<Figure size 2000x800 with 1 Axes>\n",
            "Homography= \n",
            " [[ 1.10643970e+00 -1.29936685e-02 -2.02149283e+02]\n",
            " [ 2.47793548e-02  9.61907757e-01  1.84756650e+02]\n",
            " [ 2.32135290e-04 -2.66842445e-04  1.00000000e+00]]\n",
            "<Figure size 2000x800 with 2 Axes>\n",
            "<Figure size 2000x800 with 2 Axes>\n",
            "<Figure size 2000x800 with 1 Axes>\n",
            "Homography= \n",
            " [[ 1.19480069e+00 -5.60668274e-02 -6.81408687e+01]\n",
            " [ 2.45517923e-02  1.10296520e+00  1.88021966e+02]\n",
            " [ 9.37958831e-05 -1.95701237e-04  1.00000000e+00]]\n",
            "Time taken by Surf_knn=  7.349710464477539\n"
          ],
          "name": "stdout"
        }
      ]
    },
    {
      "cell_type": "code",
      "metadata": {
        "id": "z00faOuwtLOZ",
        "colab": {
          "base_uri": "https://localhost:8080/"
        },
        "outputId": "2d3f1bf7-ced7-47a6-8740-0e819dbb6d66"
      },
      "source": [
        "t0=time.time()\r\n",
        "! python3 surf_bf.py \"/content/drive/MyDrive/DIP Proj/ledge1.jpg\" \"/content/drive/MyDrive/DIP Proj/ledge2.jpg\"\r\n",
        "\r\n",
        "! python3 surf_bf.py \"/content/drive/MyDrive/DIP Proj/ledge_12.jpg\" \"/content/drive/MyDrive/DIP Proj/ledge3.jpg\"\r\n",
        "t1=time.time()\r\n",
        "y.append(t1-t0)\r\n",
        "\r\n",
        "\r\n",
        "print(\"Time taken by Surf_bf= \",t1-t0)"
      ],
      "execution_count": null,
      "outputs": [
        {
          "output_type": "stream",
          "text": [
            "<Figure size 2000x800 with 2 Axes>\n",
            "<Figure size 2000x800 with 2 Axes>\n",
            "<Figure size 2000x800 with 1 Axes>\n",
            "Homography= \n",
            " [[ 1.11594549e+00 -1.16239167e-02 -2.04122572e+02]\n",
            " [ 3.20923051e-02  9.82804714e-01  1.81164596e+02]\n",
            " [ 2.44466506e-04 -2.46413111e-04  1.00000000e+00]]\n",
            "<Figure size 2000x800 with 2 Axes>\n",
            "<Figure size 2000x800 with 2 Axes>\n",
            "<Figure size 2000x800 with 1 Axes>\n",
            "Homography= \n",
            " [[ 1.20251537e+00 -5.04866003e-02 -7.00264701e+01]\n",
            " [ 2.81281928e-02  1.11498169e+00  1.86774821e+02]\n",
            " [ 1.00548589e-04 -1.78928307e-04  1.00000000e+00]]\n",
            "Time taken by Surf_bf=  6.351604223251343\n"
          ],
          "name": "stdout"
        }
      ]
    },
    {
      "cell_type": "code",
      "metadata": {
        "id": "05IZF0yMLWWF",
        "colab": {
          "base_uri": "https://localhost:8080/"
        },
        "outputId": "40a95636-2d77-42af-c3c9-a52ec2818ee4"
      },
      "source": [
        "t0=time.time()\r\n",
        "! python3 orbknn.py \"/content/drive/MyDrive/DIP Proj/ledge1.jpg\" \"/content/drive/MyDrive/DIP Proj/ledge2.jpg\"\r\n",
        "\r\n",
        "! python3 orbknn.py \"/content/drive/MyDrive/DIP Proj/ledge_12.jpg\" \"/content/drive/MyDrive/DIP Proj/ledge3.jpg\"\r\n",
        "t1=time.time()\r\n",
        "y.append(t1-t0)\r\n",
        "\r\n",
        "\r\n",
        "print(\"Time taken by Orb_knn= \",t1-t0)"
      ],
      "execution_count": null,
      "outputs": [
        {
          "output_type": "stream",
          "text": [
            "<Figure size 2000x800 with 2 Axes>\n",
            "<Figure size 2000x800 with 2 Axes>\n",
            "<Figure size 2000x800 with 1 Axes>\n",
            "Homography= \n",
            " [[ 1.08634338e+00  3.18218698e-03 -1.99426176e+02]\n",
            " [ 1.11858493e-02  9.87220457e-01  1.83095060e+02]\n",
            " [ 1.81096045e-04 -2.01301321e-04  1.00000000e+00]]\n",
            "<Figure size 2000x800 with 2 Axes>\n",
            "<Figure size 2000x800 with 2 Axes>\n",
            "<Figure size 2000x800 with 1 Axes>\n",
            "Homography= \n",
            " [[-4.31005923e-01 -1.17106831e+00  3.91643184e+02]\n",
            " [-3.68794896e-01 -1.13077248e+00  3.65039620e+02]\n",
            " [-1.05429856e-03 -3.04372130e-03  1.00000000e+00]]\n",
            "Time taken by Orb_knn=  4.24190354347229\n"
          ],
          "name": "stdout"
        }
      ]
    },
    {
      "cell_type": "code",
      "metadata": {
        "id": "uK0cnc83LWvJ",
        "colab": {
          "base_uri": "https://localhost:8080/"
        },
        "outputId": "106c6ece-cc50-4ec7-cae7-d63b8ff07675"
      },
      "source": [
        "t0=time.time()\r\n",
        "! python3 orb_bf.py \"/content/drive/MyDrive/DIP Proj/ledge1.jpg\" \"/content/drive/MyDrive/DIP Proj/ledge2.jpg\"\r\n",
        "\r\n",
        "! python3 orb_bf.py \"/content/drive/MyDrive/DIP Proj/ledge_12.jpg\" \"/content/drive/MyDrive/DIP Proj/ledge3.jpg\"\r\n",
        "t1=time.time()\r\n",
        "y.append(t1-t0)\r\n",
        "\r\n",
        "\r\n",
        "print(\"Time taken by Orb_bf= \",t1-t0)"
      ],
      "execution_count": null,
      "outputs": [
        {
          "output_type": "stream",
          "text": [
            "<Figure size 2000x800 with 2 Axes>\n",
            "<Figure size 2000x800 with 2 Axes>\n",
            "<Figure size 2000x800 with 1 Axes>\n",
            "Homography= \n",
            " [[ 1.07660040e+00 -1.04421290e-02 -1.95736103e+02]\n",
            " [ 1.25202714e-02  9.40395451e-01  1.87074489e+02]\n",
            " [ 1.84775389e-04 -2.72274958e-04  1.00000000e+00]]\n",
            "<Figure size 2000x800 with 2 Axes>\n",
            "<Figure size 2000x800 with 2 Axes>\n",
            "<Figure size 2000x800 with 1 Axes>\n",
            "Homography= \n",
            " [[-1.50270856e+00  3.38762812e-01  4.52808305e+02]\n",
            " [-1.28444671e+00  2.97887304e-01  3.85135657e+02]\n",
            " [-3.41104472e-03  8.47436662e-04  1.00000000e+00]]\n",
            "Time taken by Orb_bf=  4.44830584526062\n"
          ],
          "name": "stdout"
        }
      ]
    },
    {
      "cell_type": "code",
      "metadata": {
        "id": "iEMkCDLRLW79",
        "colab": {
          "base_uri": "https://localhost:8080/"
        },
        "outputId": "7dbf3e82-ca2b-4cd5-875f-a13490319912"
      },
      "source": [
        "t0=time.time()\r\n",
        "! python3 sift_knn.py \"/content/drive/MyDrive/DIP Proj/ledge1.jpg\" \"/content/drive/MyDrive/DIP Proj/ledge2.jpg\"\r\n",
        "\r\n",
        "! python3 sift_knn.py \"/content/drive/MyDrive/DIP Proj/ledge_12.jpg\" \"/content/drive/MyDrive/DIP Proj/ledge3.jpg\"\r\n",
        "t1=time.time()\r\n",
        "y.append(t1-t0)\r\n",
        "\r\n",
        "\r\n",
        "print(\"Time taken by Sift_knn= \",t1-t0)"
      ],
      "execution_count": null,
      "outputs": [
        {
          "output_type": "stream",
          "text": [
            "<Figure size 2000x800 with 2 Axes>\n",
            "<Figure size 2000x800 with 2 Axes>\n",
            "<Figure size 2000x800 with 1 Axes>\n",
            "Homography= \n",
            " [[ 1.11657664e+00 -1.42920374e-02 -2.04256606e+02]\n",
            " [ 3.17680269e-02  9.72614410e-01  1.81856905e+02]\n",
            " [ 2.49056629e-04 -2.69611198e-04  1.00000000e+00]]\n",
            "<Figure size 2000x800 with 2 Axes>\n",
            "<Figure size 2000x800 with 2 Axes>\n",
            "<Figure size 2000x800 with 1 Axes>\n",
            "Homography= \n",
            " [[ 1.20306895e+00 -5.52373642e-02 -6.97239857e+01]\n",
            " [ 2.86923108e-02  1.10486354e+00  1.87631640e+02]\n",
            " [ 1.07248417e-04 -2.00348329e-04  1.00000000e+00]]\n",
            "Time taken by Sift_knn=  6.253002882003784\n"
          ],
          "name": "stdout"
        }
      ]
    },
    {
      "cell_type": "code",
      "metadata": {
        "id": "6o1CFnAWLXHN",
        "colab": {
          "base_uri": "https://localhost:8080/"
        },
        "outputId": "bf3c1945-2ee8-40ce-e776-04f3e62b8275"
      },
      "source": [
        "t0=time.time()\r\n",
        "! python3 sift_bf.py \"/content/drive/MyDrive/DIP Proj/ledge1.jpg\" \"/content/drive/MyDrive/DIP Proj/ledge2.jpg\"\r\n",
        "\r\n",
        "! python3 sift_bf.py \"/content/drive/MyDrive/DIP Proj/ledge_12.jpg\" \"/content/drive/MyDrive/DIP Proj/ledge3.jpg\"\r\n",
        "t1=time.time()\r\n",
        "y.append(t1-t0)\r\n",
        "\r\n",
        "\r\n",
        "print(\"Time taken by Sift_bf= \",t1-t0)"
      ],
      "execution_count": null,
      "outputs": [
        {
          "output_type": "stream",
          "text": [
            "<Figure size 2000x800 with 2 Axes>\n",
            "<Figure size 2000x800 with 2 Axes>\n",
            "<Figure size 2000x800 with 1 Axes>\n",
            "Homography= \n",
            " [[ 1.11782647e+00 -1.40214555e-02 -2.04616247e+02]\n",
            " [ 3.14298369e-02  9.71505927e-01  1.82446003e+02]\n",
            " [ 2.50633737e-04 -2.69295176e-04  1.00000000e+00]]\n",
            "<Figure size 2000x800 with 2 Axes>\n",
            "<Figure size 2000x800 with 2 Axes>\n",
            "<Figure size 2000x800 with 1 Axes>\n",
            "Homography= \n",
            " [[ 1.20428917e+00 -5.54805661e-02 -6.98717241e+01]\n",
            " [ 2.98204377e-02  1.10639415e+00  1.87170985e+02]\n",
            " [ 1.09002642e-04 -2.00329682e-04  1.00000000e+00]]\n",
            "Time taken by Sift_bf=  6.250703811645508\n"
          ],
          "name": "stdout"
        }
      ]
    },
    {
      "cell_type": "code",
      "metadata": {
        "id": "IbM8spucLXSN",
        "colab": {
          "base_uri": "https://localhost:8080/"
        },
        "outputId": "01dba525-65ac-43ff-eeda-63533dd85a04"
      },
      "source": [
        "t0=time.time()\r\n",
        "! python3 brisk_knn.py \"/content/drive/MyDrive/DIP Proj/ledge1.jpg\" \"/content/drive/MyDrive/DIP Proj/ledge2.jpg\"\r\n",
        "\r\n",
        "! python3 brisk_knn.py \"/content/drive/MyDrive/DIP Proj/ledge_12.jpg\" \"/content/drive/MyDrive/DIP Proj/ledge3.jpg\"\r\n",
        "t1=time.time()\r\n",
        "y.append(t1-t0)\r\n",
        "\r\n",
        "\r\n",
        "print(\"Time taken by Brisk_knn= \",t1-t0)"
      ],
      "execution_count": null,
      "outputs": [
        {
          "output_type": "stream",
          "text": [
            "<Figure size 2000x800 with 2 Axes>\n",
            "<Figure size 2000x800 with 2 Axes>\n",
            "<Figure size 2000x800 with 1 Axes>\n",
            "Homography= \n",
            " [[ 1.11198511e+00 -1.19320993e-02 -2.03447338e+02]\n",
            " [ 2.86947494e-02  9.75118102e-01  1.82136855e+02]\n",
            " [ 2.39161717e-04 -2.58897093e-04  1.00000000e+00]]\n",
            "<Figure size 2000x800 with 2 Axes>\n",
            "<Figure size 2000x800 with 2 Axes>\n",
            "<Figure size 2000x800 with 1 Axes>\n",
            "Homography= \n",
            " [[ 1.19052445e+00 -5.62433725e-02 -6.74643299e+01]\n",
            " [ 2.12793356e-02  1.09466900e+00  1.89733655e+02]\n",
            " [ 8.87659004e-05 -2.00391508e-04  1.00000000e+00]]\n",
            "Time taken by Brisk_knn=  6.049774408340454\n"
          ],
          "name": "stdout"
        }
      ]
    },
    {
      "cell_type": "code",
      "metadata": {
        "id": "msdg-I3PLXdw",
        "colab": {
          "base_uri": "https://localhost:8080/"
        },
        "outputId": "4a7ca34a-0bc6-4cfa-b83f-fbc4ff0380a2"
      },
      "source": [
        "t0=time.time()\r\n",
        "! python3 brisk_bf.py \"/content/drive/MyDrive/DIP Proj/ledge1.jpg\" \"/content/drive/MyDrive/DIP Proj/ledge2.jpg\"\r\n",
        "\r\n",
        "! python3 brisk_bf.py \"/content/drive/MyDrive/DIP Proj/ledge_12.jpg\" \"/content/drive/MyDrive/DIP Proj/ledge3.jpg\"\r\n",
        "t1=time.time()\r\n",
        "y.append(t1-t0)\r\n",
        "\r\n",
        "\r\n",
        "print(\"Time taken by Brisk_bf= \",t1-t0)"
      ],
      "execution_count": null,
      "outputs": [
        {
          "output_type": "stream",
          "text": [
            "<Figure size 2000x800 with 2 Axes>\n",
            "<Figure size 2000x800 with 2 Axes>\n",
            "<Figure size 2000x800 with 1 Axes>\n",
            "Homography= \n",
            " [[ 1.10918669e+00 -1.23963748e-02 -2.02700628e+02]\n",
            " [ 2.77702918e-02  9.74637138e-01  1.81991570e+02]\n",
            " [ 2.34877924e-04 -2.59156551e-04  1.00000000e+00]]\n",
            "<Figure size 2000x800 with 2 Axes>\n",
            "<Figure size 2000x800 with 2 Axes>\n",
            "<Figure size 2000x800 with 1 Axes>\n",
            "Homography= \n",
            " [[ 1.20445198e+00 -5.11833968e-02 -7.02285745e+01]\n",
            " [ 2.95759544e-02  1.11363417e+00  1.86686879e+02]\n",
            " [ 1.04591921e-04 -1.84018633e-04  1.00000000e+00]]\n",
            "Time taken by Brisk_bf=  5.957810640335083\n"
          ],
          "name": "stdout"
        }
      ]
    },
    {
      "cell_type": "code",
      "metadata": {
        "colab": {
          "base_uri": "https://localhost:8080/"
        },
        "id": "RaM6iEwNOBfx",
        "outputId": "6d51ffaf-8b1e-469b-c292-e015f0d6c964"
      },
      "source": [
        "y"
      ],
      "execution_count": null,
      "outputs": [
        {
          "output_type": "execute_result",
          "data": {
            "text/plain": [
              "[6.242792367935181,\n",
              " 4.24190354347229,\n",
              " 6.253002882003784,\n",
              " 6.049774408340454,\n",
              " 6.351604223251343,\n",
              " 4.44830584526062,\n",
              " 6.250703811645508,\n",
              " 5.957810640335083]"
            ]
          },
          "metadata": {
            "tags": []
          },
          "execution_count": 36
        }
      ]
    },
    {
      "cell_type": "code",
      "metadata": {
        "id": "PTR2e0sBOcbW"
      },
      "source": [
        "cd /content/drive/MyDrive/DIP Proj/tripple"
      ],
      "execution_count": null,
      "outputs": []
    },
    {
      "cell_type": "code",
      "metadata": {
        "colab": {
          "base_uri": "https://localhost:8080/",
          "height": 280
        },
        "id": "CmGkVYSBOeyc",
        "outputId": "7bfc9e5a-73b4-4bd4-f535-60a7b9f70e8c"
      },
      "source": [
        "from matplotlib import pyplot as plt\n",
        "x1=[\"Orb_knn\", \"Brisk_knn\", \"Surf_knn\", \"Sift_knn\"]\n",
        "x2=[\"Orb_bf\", \"Brisk_bf\", \"Surf_bf\", \"Sift_bf\"]\n",
        "y1=y[:4]\n",
        "y2=y[4:]\n",
        "\n",
        "plt.xlabel(\"Model types\")\n",
        "plt.ylabel(\"Time of execution (in s)\")\n",
        "plt.bar(x1, y1, color ='blue')\n",
        "plt.plot(x1,y1)\n",
        "plt.savefig(\"time_comparisons_knn.jpg\")\n"
      ],
      "execution_count": null,
      "outputs": [
        {
          "output_type": "display_data",
          "data": {
            "image/png": "[encoded data removed]",
            "text/plain": [
              "<Figure size 432x288 with 1 Axes>"
            ]
          },
          "metadata": {
            "tags": [],
            "needs_background": "light"
          }
        }
      ]
    },
    {
      "cell_type": "code",
      "metadata": {
        "colab": {
          "base_uri": "https://localhost:8080/",
          "height": 280
        },
        "id": "XY9L8jGRPGHe",
        "outputId": "455be397-5269-409c-b5d4-2cd3f3b58e7d"
      },
      "source": [
        "\n",
        "plt.xlabel(\"Model types\")\n",
        "plt.ylabel(\"Time of execution (in s)\")\n",
        "plt.bar(x2, y2, color ='blue')\n",
        "plt.plot(x2,y2)\n",
        "plt.savefig(\"time_comparisons_bf.jpg\")\n",
        "\n"
      ],
      "execution_count": null,
      "outputs": [
        {
          "output_type": "display_data",
          "data": {
            "image/png": "[encoded data removed]",
            "text/plain": [
              "<Figure size 432x288 with 1 Axes>"
            ]
          },
          "metadata": {
            "tags": [],
            "needs_background": "light"
          }
        }
      ]
    }
  ]
}